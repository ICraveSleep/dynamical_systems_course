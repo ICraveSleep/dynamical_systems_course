{
 "cells": [
  {
   "cell_type": "markdown",
   "source": [
    "# Newton Rhapson Method"
   ],
   "metadata": {
    "collapsed": false
   }
  },
  {
   "cell_type": "markdown",
   "source": [
    "Take the non-linear equation $3x^2+6x-9=0$. With the quadratic formula its roots can be found analytically. Where $a=3$, $b=6$ and $c=(-9)$:\n",
    "\n",
    "$$\n",
    "x = \\frac{-b \\pm \\sqrt{b^2-4ac}}{2a}\n",
    "$$\n",
    "\n",
    "$$\n",
    "x_{1,\\:2}=\\frac{-6\\pm \\sqrt{6^2-4\\cdot \\:3\\left(-9\\right)}}{2\\cdot \\:3}\n",
    "$$\n",
    "$$\n",
    "x_{1,\\:2}=\\frac{-6\\pm \\:12}{2\\cdot \\:3}\n",
    "$$\n",
    "$$\n",
    "x_1=\\frac{-6+12}{2\\cdot \\:3},\\:x_2=\\frac{-6-12}{2\\cdot \\:3}\n",
    "$$\n",
    "\n",
    "$$\n",
    "x=1 ∧ x=-3\n",
    "$$"
   ],
   "metadata": {
    "collapsed": false
   }
  },
  {
   "cell_type": "markdown",
   "source": [
    "The same solutions can be found numerically by applying Newton Raphson Method\n",
    "$$\n",
    "x_{n+1} = x_n - \\frac{f(x_n)}{f'(x_n)}\n",
    "$$\n",
    "Where\n",
    "$$\n",
    "f(x_n) = 3x_n^2 + 6x_n - 9 = 0\n",
    "$$\n",
    "$$\n",
    "f'(x_n) = 6x_n + 6 = 0\n",
    "$$\n"
   ],
   "metadata": {
    "collapsed": false
   }
  },
  {
   "cell_type": "code",
   "execution_count": 3,
   "outputs": [
    {
     "name": "stdout",
     "output_type": "stream",
     "text": [
      "Converged after 6 iterations\n",
      "Root: 1.0 found with initial guess: 0\n"
     ]
    }
   ],
   "source": [
    "x_guess = 0 # Initial guess\n",
    "x = x_guess\n",
    "for i in range(100):\n",
    "    f = 3*x**2 + 6*x - 9\n",
    "    f_prime = 6*x + 6\n",
    "    x_new = x - f/f_prime\n",
    "    if x_new == x:\n",
    "        print(f\"Converged after {i} iterations\")\n",
    "        break\n",
    "    x = x_new\n",
    "print(f\"Root: {x} found with initial guess: {x_guess}\")"
   ],
   "metadata": {
    "collapsed": false
   }
  },
  {
   "cell_type": "code",
   "execution_count": 4,
   "outputs": [
    {
     "name": "stdout",
     "output_type": "stream",
     "text": [
      "Converged after 11 iterations\n",
      "Root: -3.0 found with initial guess: -100\n"
     ]
    }
   ],
   "source": [
    "x_guess = -100 # Initial guess\n",
    "x = x_guess\n",
    "for i in range(100):\n",
    "    f = 3*x**2 + 6*x - 9\n",
    "    f_prime = 6*x + 6\n",
    "    x_new = x - f/f_prime\n",
    "    if x_new == x:\n",
    "        print(f\"Converged after {i} iterations\")\n",
    "        break\n",
    "    x = x_new\n",
    "print(f\"Root: {x} found with initial guess: {x_guess}\")"
   ],
   "metadata": {
    "collapsed": false
   }
  },
  {
   "cell_type": "markdown",
   "source": [
    "As can be seen by the numerical solver, both the analytical solutions are found. However, there is some caveat to this. First, an initial guess has to be made. Second, Newton Raphson method cannot be used to find more than one root. This means that the system has to be evaluated for the initial guess to solve for the wanted root."
   ],
   "metadata": {
    "collapsed": false
   }
  }
 ],
 "metadata": {
  "kernelspec": {
   "display_name": "Python 3",
   "language": "python",
   "name": "python3"
  },
  "language_info": {
   "codemirror_mode": {
    "name": "ipython",
    "version": 2
   },
   "file_extension": ".py",
   "mimetype": "text/x-python",
   "name": "python",
   "nbconvert_exporter": "python",
   "pygments_lexer": "ipython2",
   "version": "2.7.6"
  }
 },
 "nbformat": 4,
 "nbformat_minor": 0
}
