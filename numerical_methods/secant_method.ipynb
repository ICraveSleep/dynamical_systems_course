{
 "cells": [
  {
   "cell_type": "markdown",
   "source": [
    "# Secant Method"
   ],
   "metadata": {
    "collapsed": false
   }
  },
  {
   "cell_type": "markdown",
   "source": [
    "Take the non-linear equation $3x^2+6x-9=0$. With the quadratic formula its roots can be found analytically. Where $a=3$, $b=6$ and $c=(-9)$:\n",
    "\n",
    "$$\n",
    "x = \\frac{-b \\pm \\sqrt{b^2-4ac}}{2a}\n",
    "$$\n",
    "\n",
    "$$\n",
    "x_{1,\\:2}=\\frac{-6\\pm \\sqrt{6^2-4\\cdot \\:3\\left(-9\\right)}}{2\\cdot \\:3}\n",
    "$$\n",
    "$$\n",
    "x_{1,\\:2}=\\frac{-6\\pm \\:12}{2\\cdot \\:3}\n",
    "$$\n",
    "$$\n",
    "x_1=\\frac{-6+12}{2\\cdot \\:3},\\:x_2=\\frac{-6-12}{2\\cdot \\:3}\n",
    "$$\n",
    "\n",
    "$$\n",
    "x=1 ∧ x=-3\n",
    "$$"
   ],
   "metadata": {
    "collapsed": false
   }
  },
  {
   "cell_type": "markdown",
   "source": [
    "The same solutions can be found numerically by applying Secant Method. It is very similar to Newton Raphson Method, however the derivative of the function $f(x)$ is not required. This means that the method can be easily applied where the derivative of the function is hard or does not have a possible solution at all.\n",
    "$$\n",
    "x_{n+1} = x_n - \\frac{f(x_n)}{\\frac{f({x_n}) - f(x_{n-1})}{x_n - x_{n-1}}}  ~~=~~ x_n - f(x_n)\\frac{{x_n - x_{n-1}}}{f({x_n}) - f(x_{n-1})}\n",
    "$$\n",
    "Where\n",
    "$$\n",
    "f(x_n) = 3x_n^2 + 6x_n - 9 = 0\n",
    "$$"
   ],
   "metadata": {
    "collapsed": false
   }
  },
  {
   "cell_type": "code",
   "execution_count": 19,
   "outputs": [
    {
     "name": "stdout",
     "output_type": "stream",
     "text": [
      "Converged after 1 iterations\n",
      "Root: 1.0 found with initial guesses: 1 and 1\n"
     ]
    }
   ],
   "source": [
    "x0_guess = 1\n",
    "x1_guess = 1\n",
    "\n",
    "x0 = x0_guess\n",
    "x1 = x1_guess\n",
    "def func(value):\n",
    "    return 3*value**2 + 6*value - 9\n",
    "\n",
    "for i in range(100):\n",
    "    if x1 == x0:\n",
    "        x1 = x1 - 0.01 # Ensuring none zero division\n",
    "\n",
    "    x_new = x1 - func(x1)*(x1 - x0)/(func(x1) - func(x0))\n",
    "    if x_new == x1:\n",
    "        print(f\"Converged after {i} iterations\")\n",
    "        break\n",
    "    x0 = x1\n",
    "    x1 = x_new\n",
    "\n",
    "print(f\"Root: {x1} found with initial guesses: {x0_guess} and {x1_guess}\")"
   ],
   "metadata": {
    "collapsed": false
   }
  },
  {
   "cell_type": "code",
   "execution_count": 20,
   "outputs": [
    {
     "name": "stdout",
     "output_type": "stream",
     "text": [
      "Converged after 15 iterations\n",
      "Root: -3.0 found with initial guesses: -120 and -100\n"
     ]
    }
   ],
   "source": [
    "x0_guess = -120\n",
    "x1_guess = -100\n",
    "\n",
    "x0 = x0_guess\n",
    "x1 = x1_guess\n",
    "def func(value):\n",
    "    return 3*value**2 + 6*value - 9\n",
    "\n",
    "for i in range(100):\n",
    "    if x1 == x0:\n",
    "        x1 = x1 - 0.01 # Ensuring none zero division\n",
    "\n",
    "    x_new = x1 - func(x1)*(x1 - x0)/(func(x1) - func(x0))\n",
    "    if x_new == x1:\n",
    "        print(f\"Converged after {i} iterations\")\n",
    "        break\n",
    "    x0 = x1\n",
    "    x1 = x_new\n",
    "\n",
    "print(f\"Root: {x1} found with initial guesses: {x0_guess} and {x1_guess}\")"
   ],
   "metadata": {
    "collapsed": false
   }
  }
 ],
 "metadata": {
  "kernelspec": {
   "display_name": "Python 3",
   "language": "python",
   "name": "python3"
  },
  "language_info": {
   "codemirror_mode": {
    "name": "ipython",
    "version": 2
   },
   "file_extension": ".py",
   "mimetype": "text/x-python",
   "name": "python",
   "nbconvert_exporter": "python",
   "pygments_lexer": "ipython2",
   "version": "2.7.6"
  }
 },
 "nbformat": 4,
 "nbformat_minor": 0
}
