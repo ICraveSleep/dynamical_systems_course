{
 "cells": [
  {
   "cell_type": "markdown",
   "source": [
    "# Backward Euler Method\n",
    "\n",
    "Links:\n",
    "* https://scicomp.stackexchange.com/questions/5042/how-to-implement-newtons-method-for-solving-the-algebraic-equations-in-the-back/5045#5045  -  How to implement Newton's method for solving the algebraic equations in the backward Euler method\n",
    "* https://scicomp.stackexchange.com/questions/33701/understanding-butcher-tableau-when-it-comes-to-implicit-methods  -  Understanding butcher tableau when it comes to implicit methods\n",
    "* https://stackoverflow.com/questions/70794806/explicit-forward-and-implicit-backward-euler-methods-in-python  -  Explicit (Forward) and Implicit (Backward) Euler Methods in Python"
   ],
   "metadata": {
    "collapsed": false
   }
  },
  {
   "cell_type": "markdown",
   "source": [
    "Take the general form of a first order differential equation (ODE).\n",
    "$$\n",
    "\\frac{dy(t)}{dt} = f(t,y(t)) ~~ or ~~ y' = f(f,y)\n",
    "$$\n",
    "That has the initial condition $y(t_0) = y_0$\n",
    "Discretizing the derivative $\\frac{dy(t)}{dt}$ to numerically approximate the ODE with a backwards stepping its approximation is as follows\n",
    "$$\n",
    "\\frac{dy(t)}{dt} = \\frac{y_n - y_{n-1}}{\\Delta t}\n",
    "$$\n",
    "Substituting the backwards step derivative approximation into the ODE yields the following\n",
    "$$\n",
    "\\frac{y_n - y_{n-1}}{\\Delta t} = f(t_n,y_n)\n",
    "$$\n",
    "The equation can be re-written to\n",
    "$$\n",
    "y_n= y_{n-1} + \\Delta t f(t_n,y_n)\n",
    "$$\n",
    "Then, by shifting the equation, in positive step direction, and substituting $\\Delta t$ with $h$, the Backwards Euler formula is derived\n",
    "$$\n",
    "y_{n+1} = y_{n} + hf(t_{n+1},y_{n+1})\n",
    "$$"
   ],
   "metadata": {
    "collapsed": false
   }
  }
 ],
 "metadata": {
  "kernelspec": {
   "display_name": "Python 3",
   "language": "python",
   "name": "python3"
  },
  "language_info": {
   "codemirror_mode": {
    "name": "ipython",
    "version": 2
   },
   "file_extension": ".py",
   "mimetype": "text/x-python",
   "name": "python",
   "nbconvert_exporter": "python",
   "pygments_lexer": "ipython2",
   "version": "2.7.6"
  }
 },
 "nbformat": 4,
 "nbformat_minor": 0
}
