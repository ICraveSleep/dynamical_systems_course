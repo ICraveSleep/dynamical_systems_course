{
 "cells": [
  {
   "cell_type": "markdown",
   "source": [
    "# Backward Euler Method\n",
    "\n",
    "Links:\n",
    "* https://scicomp.stackexchange.com/questions/5042/how-to-implement-newtons-method-for-solving-the-algebraic-equations-in-the-back/5045#5045  -  How to implement Newton's method for solving the algebraic equations in the backward Euler method\n",
    "* https://scicomp.stackexchange.com/questions/33701/understanding-butcher-tableau-when-it-comes-to-implicit-methods  -  Understanding butcher tableau when it comes to implicit methods\n",
    "* https://stackoverflow.com/questions/70794806/explicit-forward-and-implicit-backward-euler-methods-in-python  -  Explicit (Forward) and Implicit (Backward) Euler Methods in Python\n",
    "* https://math.libretexts.org/Bookshelves/Differential_Equations/Numerically_Solving_Ordinary_Differential_Equations_(Brorson)/01%3A_Chapters/1.03%3A_Backward_Euler_method  -  Backward Euler algorithm\n",
    "* https://math.stackexchange.com/questions/152159/how-to-correctly-apply-newton-raphson-method-to-backward-euler-method\n",
    "* https://se.mathworks.com/matlabcentral/answers/1714925-newton-raphson-for-backwards-euler-on-system-of-differential-equations"
   ],
   "metadata": {
    "collapsed": false
   }
  },
  {
   "cell_type": "markdown",
   "source": [
    "Take the general form of a first order differential equation (ODE).\n",
    "$$\n",
    "\\frac{dy(t)}{dt} = f(t,y(t)) ~~ or ~~ y' = f(f,y)\n",
    "$$\n",
    "That has the initial condition $y(t_0) = y_0$.\n",
    "\n",
    "Discretizing the derivative $\\frac{dy(t)}{dt}$ to numerically approximate the ODE with a backwards stepping its approximation is as follows\n",
    "$$\n",
    "\\frac{dy(t)}{dt} = \\frac{y_n - y_{n-1}}{\\Delta t}\n",
    "$$\n",
    "Substituting the backwards step derivative approximation into the ODE yields the following\n",
    "$$\n",
    "\\frac{y_n - y_{n-1}}{\\Delta t} = f(t_n,y_n)\n",
    "$$\n",
    "The equation can be re-written to\n",
    "$$\n",
    "y_n= y_{n-1} + \\Delta t f(t_n,y_n)\n",
    "$$\n",
    "Then, by shifting the equation, in positive step direction, and substituting $\\Delta t$ with $h$, the Backwards Euler formula is derived\n",
    "$$\n",
    "y_{n+1} = y_{n} + hf(t_{n+1},y_{n+1})\n",
    "$$"
   ],
   "metadata": {
    "collapsed": false
   }
  },
  {
   "cell_type": "markdown",
   "source": [
    "Re-writing the equation above to\n",
    "$$\n",
    "y_{n+1} - y_{n} - hf(t_{n+1},y_{n+1}) = 0\n",
    "$$\n",
    "\n",
    "Thus, $y_{n+1}$ is a zero of $g(x)$, where\n",
    "$$\n",
    "g(x) = 0 = x - y_n - hf(t_{n+1},x)\n",
    "$$\n",
    "Applying Netwon Rapshon method\n",
    "$$\n",
    "g'(x) = 0 = 1 - h \\frac{\\sigma f}{\\sigma y}(t_{n+1},z)\n",
    "$$\n",
    "$$\n",
    "x_{n+1} = x_n - \\frac{f(x_n)}{f'(x_n)}\n",
    "$$\n",
    "\n",
    "Knowing $y_n$, set $z_0 = y_n$ for the iteration for convergance\n",
    "\n",
    "$$\n",
    "x_{n+1} = x_k - \\frac{g(x)}{g'(x)}\n",
    "$$\n",
    "\n",
    "The result from the numerical zero solution $z_n$ is then used as the evaluated $y_{n+1}$\n"
   ],
   "metadata": {
    "collapsed": false
   }
  },
  {
   "cell_type": "code",
   "execution_count": 15,
   "outputs": [
    {
     "data": {
      "text/plain": "<Figure size 640x480 with 1 Axes>",
      "image/png": "[encoded data removed]"
     },
     "metadata": {},
     "output_type": "display_data"
    }
   ],
   "source": [
    "from math import exp\n",
    "import matplotlib.pyplot as plt\n",
    "\n",
    "\n",
    "def newton_rapshon(x_nr):\n",
    "    for i in range(5):\n",
    "        f = exp(4 * t)\n",
    "        f_prime = 4*exp(4*t)\n",
    "        x_new = x_nr - f/f_prime\n",
    "        x_nr = x_new\n",
    "    return x_nr\n",
    "\n",
    "def create_time_span(t_start, t_end, step_size):\n",
    "    time_span = []\n",
    "    time_c = t_start\n",
    "    while time_c <= t_end:\n",
    "        time_span.append(time_c)\n",
    "        time_c += step_size\n",
    "    time_span.append(time_c)\n",
    "    return time_span\n",
    "\n",
    "\n",
    "dt = 0.01\n",
    "T = 3\n",
    "\n",
    "time = create_time_span(0, T, dt)\n",
    "\n",
    "x_exact = []\n",
    "x = []\n",
    "x_1 = 0\n",
    "x_bem = 0\n",
    "for t in time:\n",
    "    x_exact.append(exp(4 * t))\n",
    "\n",
    "    func = x_1 - dt*exp(4*t) - x\n",
    "    x_bem = newton_rapshon(x_bem)\n",
    "    x.append(x_bem)\n",
    "\n",
    "fig, ax = plt.subplots()\n",
    "ax.plot(time, x_exact, color='r')\n",
    "ax.plot(time, x, color='b')\n",
    "\n",
    "plt.show()"
   ],
   "metadata": {
    "collapsed": false
   }
  },
  {
   "cell_type": "code",
   "execution_count": null,
   "outputs": [],
   "source": [],
   "metadata": {
    "collapsed": false
   }
  }
 ],
 "metadata": {
  "kernelspec": {
   "display_name": "Python 3",
   "language": "python",
   "name": "python3"
  },
  "language_info": {
   "codemirror_mode": {
    "name": "ipython",
    "version": 2
   },
   "file_extension": ".py",
   "mimetype": "text/x-python",
   "name": "python",
   "nbconvert_exporter": "python",
   "pygments_lexer": "ipython2",
   "version": "2.7.6"
  }
 },
 "nbformat": 4,
 "nbformat_minor": 0
}
