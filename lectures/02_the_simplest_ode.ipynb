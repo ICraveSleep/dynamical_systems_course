{
 "cells": [
  {
   "cell_type": "markdown",
   "source": [
    "# The simplest ODE\n",
    "\n",
    "### $\\dot x  = \\lambda x$"
   ],
   "metadata": {
    "collapsed": false
   }
  },
  {
   "cell_type": "markdown",
   "source": [
    "Take the bunny population state $x$. It grows at a rate of $\\lambda$ that is proportional to the population state:\n",
    "$$\\dot x = \\frac{dx}{dt} = \\lambda x$$\n",
    "What is the population as a function of time?"
   ],
   "metadata": {
    "collapsed": false
   }
  },
  {
   "cell_type": "markdown",
   "source": [
    "\n",
    "$$\\dot x = \\frac{dx}{dt} = \\lambda x$$\n",
    "$$\\int \\frac{dx}{x} = \\int \\lambda x dt$$\n",
    "$$ \\ln(x) = \\lambda t + C  $$\n",
    "$$ x = e^{\\lambda t + C}  $$\n",
    "$$ x = e^{\\lambda t}e^{C}  $$\n",
    "$$ x = e^{\\lambda t}K  $$\n",
    "\n",
    "Then at the initial time $t_0 = 0$, $x(t_0) = x(0)$\n",
    "Plugin that in to the above equation yields\n",
    "$$ x(0) = e^{\\lambda 0}K  $$\n",
    "$$ x(0) = K  $$\n",
    "Finally, substituting the solved value of $K$\n",
    "$$x(t) = x(0)e^{\\lambda t}$$"
   ],
   "metadata": {
    "collapsed": false
   }
  }
 ],
 "metadata": {
  "kernelspec": {
   "display_name": "Python 3",
   "language": "python",
   "name": "python3"
  },
  "language_info": {
   "codemirror_mode": {
    "name": "ipython",
    "version": 2
   },
   "file_extension": ".py",
   "mimetype": "text/x-python",
   "name": "python",
   "nbconvert_exporter": "python",
   "pygments_lexer": "ipython2",
   "version": "2.7.6"
  }
 },
 "nbformat": 4,
 "nbformat_minor": 0
}
