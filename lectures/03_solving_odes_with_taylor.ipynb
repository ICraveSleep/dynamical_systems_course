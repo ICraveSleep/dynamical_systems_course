{
 "cells": [
  {
   "cell_type": "markdown",
   "source": [
    "# Solving ODEs with Taylor series\n",
    "#### \"Here we show how to solve a simple linear differential equation by solving for the Power Series expansion of the solution.  This is an extremely powerful approach that can be used to solve nearly any differential equation, even nasty nonlinear equations.\" - Steven Brunton"
   ],
   "metadata": {
    "collapsed": false
   }
  },
  {
   "cell_type": "markdown",
   "source": [
    "$ \\dot x(t) = a x(t)  \\implies x(t) = x_0e^{at}$\n",
    "\n",
    "What is $e^{at}$?\n",
    "\n",
    "Expanding $x(t)$ in term of powers of $t$. Going to assume that the following expansion goes on forever. Going to Take its derivative $\\dot x(t)$ and multiply it by $a$ setting the expression equal to each other and solve them individually.\n",
    "$$x(t) = C_0 + C_1t + C_2t^2 + C_3t^3 + C_4t^4 + ... $$\n",
    "$$ \\dot x(t) = C_1 + 2C_2t + 3C_3t^2 + 4C_4t^3 + ...$$\n",
    "\n",
    "Then perform the multiply $x$ by $a$\n",
    "$$ax(t) = aC_0 + aC_1t + aC_2t^2 + aC_3t^3 + aC_4t^4 + ... $$\n",
    "Then the following is true. Each individual term has to equal each other in the power series.\n",
    "\n",
    "$$ \\dot x(t) = a x(t) $$\n",
    "Then match each power of $t$ in the below equation\n",
    "$$ C_1 + 2C_2t + 3C_3t^2 + 4C_4t^3 + ...  = aC_0 + aC_1t + aC_2t^2 + aC_3t^3 + aC_4t^4 + ...$$\n"
   ],
   "metadata": {
    "collapsed": false
   }
  },
  {
   "cell_type": "markdown",
   "source": [
    "| Power of $t$ | Coefficients                                                                              | Pattern                     |\n",
    "|--------------|-------------------------------------------------------------------------------------------|-----------------------------|\n",
    "| $t^0$ = 1    | $C_1 = aC_0 = ax_0$                                                                       | $\\frac{a}{1!}x_0$           |\n",
    "| $t^1$        | $2C_2 = aC_1 \\implies C_2 = \\frac{a}{2}c_1 = \\frac{a^2}{2}x_0$                            | $\\frac{a^2}{2!}x_0$         |\n",
    "| $t^2$        | $3C_2 = aC_2 \\implies C_3 = \\frac{a}{3}c_2 = \\frac{a^3}{6}x_0$                            | $\\frac{a^3}{3!}x_0$         |\n",
    "| $t^3$        | $4C_4 = aC_3 \\implies C_4 = \\frac{a}{4}c_3 = \\frac{a^4}{24}x_0$                           | $\\frac{a^4}{4!}x_0$         |\n",
    "| $t^n$        | $(n+1)C_{n+1} = aC_n \\implies C_{n+1} = \\frac{a}{(n+1)}c_n = \\frac{a^{(n+1)}}{(n+1)!}x_0$ | $\\frac{a^{n+1}}{(n+1)!}x_0$ |"
   ],
   "metadata": {
    "collapsed": false
   }
  },
  {
   "cell_type": "markdown",
   "source": [
    "$$ x(t) = x_0 + x_0at + x_0\\frac{a^2t^2}{2!} + x_0\\frac{a^3t^3}{3!} + x_0\\frac{a^4t^4}{4!}+ ... + x_0\\frac{a^nt^n}{n!} + ...$$\n",
    "$$ = x_0\\left( 1 + at + \\frac{a^2t^2}{2!} + \\frac{a^3t^3}{3!} + \\frac{a^4t^4}{4!}+ ... + \\frac{a^nt^n}{n!} + ... \\right)$$\n",
    "$$ e^{at} = \\left( 1 + at + \\frac{a^2t^2}{2!} + \\frac{a^3t^3}{3!} + \\frac{a^4t^4}{4!}+ ... + \\frac{a^nt^n}{n!} + ... \\right) $$\n",
    "Which yields\n",
    "$$ x(t) = x_0e^{at} $$"
   ],
   "metadata": {
    "collapsed": false
   }
  }
 ],
 "metadata": {
  "kernelspec": {
   "display_name": "Python 3",
   "language": "python",
   "name": "python3"
  },
  "language_info": {
   "codemirror_mode": {
    "name": "ipython",
    "version": 2
   },
   "file_extension": ".py",
   "mimetype": "text/x-python",
   "name": "python",
   "nbconvert_exporter": "python",
   "pygments_lexer": "ipython2",
   "version": "2.7.6"
  }
 },
 "nbformat": 4,
 "nbformat_minor": 0
}
