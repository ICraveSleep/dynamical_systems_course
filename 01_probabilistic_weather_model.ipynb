{
 "cells": [
  {
   "cell_type": "markdown",
   "id": "16f6c4c3",
   "metadata": {},
   "source": [
    "# Probabalistic Weather Model\n",
    "### An introduction to modleing with matrices and vectors ###"
   ]
  },
  {
   "attachments": {},
   "cell_type": "markdown",
   "id": "4c53c69d",
   "metadata": {},
   "source": [
    "![simple_weather_model.svg](images/simple_weather_model.svg)"
   ]
  },
  {
   "cell_type": "markdown",
   "id": "8423b2e0",
   "metadata": {},
   "source": [
    "Consider the very simplified wather model above. Its state, the weather today, $\\textbf{x}$ is a vector containing the probability for the weather to be Rainy. Nice or Cloudy. Further, the system behaviour can be described with the system matrix $\\textbf{A}$ from the figure above.\n",
    "\n",
    "$$\n",
    "    \\textbf{x} =\n",
    "    \\begin{bmatrix}\n",
    "        pr(R) \\\\\n",
    "        pr(N) \\\\\n",
    "        pr(C) \\\\\n",
    "    \\end{bmatrix}\n",
    "    ~~~~~~~~~~\n",
    "    \\textbf{A} =\n",
    "    \\begin{bmatrix}\n",
    "        0.6  & 0.75 & 0.25 \\\\\n",
    "        0.25 & 0    & 0.25 \\\\\n",
    "        0.15 & 0.25 & 0.5  \\\\\n",
    "    \\end{bmatrix}\n",
    "$$"
   ]
  },
  {
   "cell_type": "markdown",
   "id": "592b9ec7",
   "metadata": {},
   "source": [
    "Then, the initial state is set to be a nice day\n",
    "\n",
    "$$\n",
    "    \\textbf{x}_{today} =\n",
    "    \\begin{bmatrix}\n",
    "        1 \\\\\n",
    "        0 \\\\\n",
    "        0 \\\\\n",
    "    \\end{bmatrix}\n",
    "$$"
   ]
  },
  {
   "cell_type": "markdown",
   "id": "543297b6",
   "metadata": {},
   "source": [
    "The weather tomorrow then has the following probability\n",
    "\n",
    "$$\n",
    "    \\textbf{x}_{tomorrow} = \\textbf{A}\\textbf{x}_{today} =\n",
    "    \\begin{bmatrix}\n",
    "        0.6 \\\\\n",
    "        0.25 \\\\\n",
    "        0.15 \\\\\n",
    "    \\end{bmatrix}\n",
    "$$\n"
   ]
  },
  {
   "cell_type": "markdown",
   "id": "33a23220",
   "metadata": {},
   "source": [
    "In order to get the probability of the weather the day after tomorrow the same procedure as above is then applied, meaning that calulating the probability for the wather for a given next day can be described with the following equation\n",
    "\n",
    "$$\n",
    "    \\textbf{x}_{k+1} = \\textbf{A}\\textbf{x}_{k}\n",
    "$$"
   ]
  },
  {
   "cell_type": "markdown",
   "id": "fa80d429",
   "metadata": {},
   "source": [
    "Take for example the days $x_{1...4}$\n",
    "\n",
    "| $x_1$ | $x_2$  | $x_3$    | $x_4$    |\n",
    "| ----- | -----  | ------   | ------   |\n",
    "|       | $Ax_1$ | $A^2x_1$ | $A^3x_1$ |\n",
    "|       |        | $Ax_2$   | $A^2x_2$ |\n",
    "|       |        |          | $Ax_3$   |"
   ]
  },
  {
   "cell_type": "code",
   "execution_count": null,
   "id": "11437404",
   "metadata": {
    "pycharm": {
     "is_executing": true
    }
   },
   "outputs": [],
   "source": [
    "import numpy as np\n",
    "from matplotlib import pyplot as plt\n",
    "\n",
    "A = np.array([\n",
    "    [0.6, 0.75, 0.25],\n",
    "    [0.25, 0, 0.25],\n",
    "    [0.15, 0.25, 0.5]\n",
    "])\n",
    "\n",
    "x = np.array([[1],[0],[0]])"
   ]
  },
  {
   "cell_type": "markdown",
   "id": "0ec28cc4",
   "metadata": {},
   "source": [
    "Verifying that the day tomorrow will be as the previous example"
   ]
  },
  {
   "cell_type": "code",
   "execution_count": 2,
   "id": "25996bb2",
   "metadata": {
    "scrolled": true
   },
   "outputs": [
    {
     "name": "stdout",
     "output_type": "stream",
     "text": [
      "[[0.6 ]\n",
      " [0.25]\n",
      " [0.15]]\n"
     ]
    }
   ],
   "source": [
    "print(A@x)"
   ]
  },
  {
   "cell_type": "code",
   "execution_count": 3,
   "id": "f793b38f",
   "metadata": {},
   "outputs": [],
   "source": [
    "no_days = 50\n",
    "weather = np.zeros([3, no_days])\n",
    "for k in range(no_days):\n",
    "    x = A@x\n",
    "    weather[:,k] = x[:,0]"
   ]
  },
  {
   "cell_type": "markdown",
   "id": "17999e71",
   "metadata": {},
   "source": [
    "Plotting the probabilites of the weather for the next 50 days, it can be seen that the probabilites converge quickly"
   ]
  },
  {
   "cell_type": "code",
   "execution_count": 4,
   "id": "e80c47ff",
   "metadata": {
    "scrolled": false
   },
   "outputs": [
    {
     "data": {
      "image/png": "[encoded data removed]",
      "text/plain": [
       "<Figure size 640x480 with 1 Axes>"
      ]
     },
     "metadata": {},
     "output_type": "display_data"
    }
   ],
   "source": [
    "lines = plt.plot(weather.transpose())\n",
    "plt.legend(lines, [\"Rainy\", \"Nice\", \"Cloudy\"])\n",
    "plt.xlabel(\"Day\")\n",
    "plt.ylabel(\"Probability\")\n",
    "plt.grid(True)\n"
   ]
  }
 ],
 "metadata": {
  "kernelspec": {
   "display_name": "Python 3 (ipykernel)",
   "language": "python",
   "name": "python3"
  },
  "language_info": {
   "codemirror_mode": {
    "name": "ipython",
    "version": 3
   },
   "file_extension": ".py",
   "mimetype": "text/x-python",
   "name": "python",
   "nbconvert_exporter": "python",
   "pygments_lexer": "ipython3",
   "version": "3.8.2"
  }
 },
 "nbformat": 4,
 "nbformat_minor": 5
}
